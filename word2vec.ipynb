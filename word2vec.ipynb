{
  "cells": [
    {
      "cell_type": "code",
      "execution_count": null,
      "metadata": {
        "id": "8mX9wRuv1C4x"
      },
      "outputs": [],
      "source": [
        "import pandas as pd\n",
        "df = pd.read_csv('cleardescription.csv')\n",
        "df"
      ]
    },
    {
      "cell_type": "code",
      "execution_count": null,
      "metadata": {
        "id": "moPD3b_N1C42"
      },
      "outputs": [],
      "source": [
        "df['cleardescription']=df['cleardescription'].apply(lambda x: str(x))"
      ]
    },
    {
      "cell_type": "code",
      "execution_count": null,
      "metadata": {
        "id": "qUu3bdBe1C43"
      },
      "outputs": [],
      "source": [
        "import pymorphy2\n",
        "morph = pymorphy2.MorphAnalyzer()\n",
        "for i in range(len(df.index)):\n",
        "    l=[]\n",
        "    words=df.loc[i]['cleardescription'].split()\n",
        "    for word in words:\n",
        "        a=morph.parse(word)[0].tag.POS\n",
        "        if(a=='INFN'):a='VERB' #тут выравниваем обозначения\n",
        "        if(a=='ADJF'):a='ADJ'\n",
        "        st=str(word)+str('_')+str(a)\n",
        "        l.append(st)\n",
        "    new_words=\" \".join(l)\n",
        "    df.at[i,'newcleardescription']=new_words"
      ]
    },
    {
      "cell_type": "code",
      "execution_count": null,
      "metadata": {
        "id": "aicBKVso1C45"
      },
      "outputs": [],
      "source": [
        "df.to_csv('newcleardescription.csv',index=False)"
      ]
    },
    {
      "cell_type": "code",
      "execution_count": null,
      "metadata": {
        "id": "FKP04KF81C46"
      },
      "outputs": [],
      "source": [
        "import sys\n",
        "import gensim\n",
        "import zipfile\n",
        "model_file = \"180.zip\"\n",
        "with zipfile.ZipFile(model_file, 'r') as archive:\n",
        "    stream = archive.open('model.bin')\n",
        "    model = gensim.models.KeyedVectors.load_word2vec_format(stream, binary=True)"
      ]
    },
    {
      "cell_type": "code",
      "execution_count": null,
      "metadata": {
        "id": "QUlj3UbO1C46"
      },
      "outputs": [],
      "source": [
        "#Тут разные попытки посчитать схожесть и определить понимает ли обозначениея(можно выкинуть)\n",
        "words = ['машина_NOUN','принимать_ADJ']\n",
        "words2 = ['тягач_NOUN']\n",
        "\n",
        "for word in words:\n",
        "    if word in model:\n",
        "        print(word)\n",
        "        for i in model.most_similar(positive=[word], topn=10):\n",
        "            print(i[0], i[1])\n",
        "        print('\\n')\n",
        "    else:\n",
        "        print(word + ' is not present in the model')\n",
        "model.wmdistance(words,words2)"
      ]
    },
    {
      "cell_type": "code",
      "execution_count": null,
      "metadata": {
        "id": "MCptkw1F1C47"
      },
      "outputs": [],
      "source": [
        "# найдем похожие для фильма(считает  долго!)\n",
        "d={}\n",
        "l=[]\n",
        "w= df.loc[0]['newcleardescription'].split() # для лестера(красота по американски)\n",
        "\n",
        "for i in range(1,len(df.index)):\n",
        "    k=model.wmdistance(w,df.loc[i]['newcleardescription'].split())\n",
        "    d[i]=k\n",
        "    list_d = list(d.items())\n",
        "    list_d.sort(key=lambda i: i[1])\n",
        "print(list_d[:15])\n",
        "for i in range(len(list_d[:15])):\n",
        "    print(df.loc[list_d[i][0]]['title'])"
      ]
    },
    {
      "cell_type": "code",
      "execution_count": null,
      "metadata": {
        "id": "RHyMBCYe1C48"
      },
      "outputs": [],
      "source": []
    }
  ],
  "metadata": {
    "kernelspec": {
      "display_name": "Python 3",
      "language": "python",
      "name": "python3"
    },
    "language_info": {
      "codemirror_mode": {
        "name": "ipython",
        "version": 3
      },
      "file_extension": ".py",
      "mimetype": "text/x-python",
      "name": "python",
      "nbconvert_exporter": "python",
      "pygments_lexer": "ipython3",
      "version": "3.7.6"
    },
    "colab": {
      "provenance": []
    }
  },
  "nbformat": 4,
  "nbformat_minor": 0
}